{
 "cells": [
  {
   "cell_type": "markdown",
   "id": "fbbab37f-8e4e-4c21-be00-53912e9b6667",
   "metadata": {},
   "source": [
    "# IMPORTS"
   ]
  },
  {
   "cell_type": "code",
   "execution_count": 55,
   "id": "71c1929d-526f-4050-ac5f-e311c88ca8c9",
   "metadata": {},
   "outputs": [],
   "source": [
    "import json\n",
    "import tkinter\n",
    "from tkinter import ttk\n",
    "import os\n",
    "import unicodedata\n",
    "from datetime import datetime, timedelta\n",
    "from matplotlib.figure import Figure\n",
    "from matplotlib.backends.backend_tkagg import FigureCanvasTkAgg"
   ]
  },
  {
   "cell_type": "markdown",
   "id": "dcee6c5a",
   "metadata": {},
   "source": [
    "## Lista de hábitos carregados do arquivo\n",
    "### Inicializa a lista de hábitos"
   ]
  },
  {
   "cell_type": "code",
   "execution_count": 56,
   "id": "6047eadb-e69b-4401-ba06-bc8610c42513",
   "metadata": {},
   "outputs": [],
   "source": [
    "habitos = []    "
   ]
  },
  {
   "cell_type": "markdown",
   "id": "c45b5b8d",
   "metadata": {},
   "source": [
    "## Caminho do arquivo JSON\n",
    "### Define o caminho do arquivo JSON onde os hábitos serão salvos"
   ]
  },
  {
   "cell_type": "code",
   "execution_count": 57,
   "id": "91c4d75a-ce1c-4a94-ab1e-f4f0b70d24d5",
   "metadata": {},
   "outputs": [],
   "source": [
    "ARQUIVO_HABITOS = os.path.join(os.getcwd(), \"habitos.json\")"
   ]
  },
  {
   "cell_type": "markdown",
   "id": "a411d954-e217-43cf-bb03-be2e90501e68",
   "metadata": {},
   "source": [
    "# Funções"
   ]
  },
  {
   "cell_type": "markdown",
   "id": "6c56d3b3",
   "metadata": {},
   "source": [
    "## Carrega os hábitos do arquivo JSON"
   ]
  },
  {
   "cell_type": "code",
   "execution_count": 58,
   "id": "6249d206-4326-44cc-a4b7-01669aab9731",
   "metadata": {},
   "outputs": [],
   "source": [
    "def carregar_habitos():\n",
    "    global habitos\n",
    "    if os.path.exists(ARQUIVO_HABITOS):\n",
    "        with open(ARQUIVO_HABITOS, \"r\") as arquivo:\n",
    "            habitos = json.load(arquivo)\n",
    "    else:\n",
    "        habitos = []"
   ]
  },
  {
   "cell_type": "markdown",
   "id": "67d05947",
   "metadata": {},
   "source": [
    "# Mostra uma mensagem em uma janela Tkinter"
   ]
  },
  {
   "cell_type": "code",
   "execution_count": 59,
   "id": "0254c772",
   "metadata": {},
   "outputs": [],
   "source": [
    "def mostrar_mensagem(titulo, mensagem):\n",
    "    janela = tkinter.Tk()\n",
    "    janela.title(titulo)\n",
    "    janela.geometry(\"400x200\")  # Define o tamanho da janela (largura x altura)\n",
    "\n",
    "    label = tkinter.Label(janela, text=mensagem, font=(\"Arial\", 12), padx=10, pady=10)\n",
    "    label.pack(expand=True)\n",
    "\n",
    "    btn_ok = tkinter.Button(janela, text=\"OK\", command=janela.destroy)\n",
    "    btn_ok.pack(ipady=10, ipadx=30)\n",
    "    btn_ok.configure(background=\"#e0e0e0\", foreground=\"black\")\n",
    "\n",
    "    janela.mainloop()"
   ]
  },
  {
   "cell_type": "markdown",
   "id": "fa15ae7e",
   "metadata": {},
   "source": [
    "# Salva os hábitos no arquivo JSON"
   ]
  },
  {
   "cell_type": "code",
   "execution_count": 60,
   "id": "6d1ff370-09dd-4b56-ace9-1d498c8539c0",
   "metadata": {},
   "outputs": [],
   "source": [
    "def salvar_habitos_no_arquivo():\n",
    "    with open(ARQUIVO_HABITOS, \"w\") as arquivo:\n",
    "        json.dump(habitos, arquivo, indent=4)"
   ]
  },
  {
   "cell_type": "markdown",
   "id": "b9262eb7",
   "metadata": {},
   "source": [
    "# Atualiza a área de texto com a lista de hábitos"
   ]
  },
  {
   "cell_type": "code",
   "execution_count": 61,
   "id": "6edcc646-e0df-4579-b5db-2722042ad921",
   "metadata": {},
   "outputs": [],
   "source": [
    "def atualizar_output():\n",
    "    output_habitos.delete(\"1.0\", tkinter.END)\n",
    "    for h in habitos:\n",
    "        output_habitos.insert(tkinter.END, f\"{h['nome']}\\n\")"
   ]
  },
  {
   "cell_type": "markdown",
   "id": "00d1befc",
   "metadata": {},
   "source": [
    "# Adiciona um novo hábito"
   ]
  },
  {
   "cell_type": "code",
   "execution_count": 62,
   "id": "c1712138-f8f2-4ce1-a252-89909bade125",
   "metadata": {},
   "outputs": [],
   "source": [
    "def novo_habito():\n",
    "    global habito, output_habitos, btn_salvar\n",
    "\n",
    "    # Remove widgets antigos (exceto o menu)\n",
    "    for widget in janela.winfo_children():\n",
    "        if getattr(widget, \"is_menu\", False) is False:\n",
    "            widget.grid_remove()\n",
    "\n",
    "    # Campo para adicionar novo hábito\n",
    "    habito = tkinter.Entry(janela)\n",
    "    habito.focus_set()\n",
    "    habito.grid(row=1, column=1, padx=10, pady=5)\n",
    "\n",
    "    btn_salvar = tkinter.Button(janela, text=\"SALVAR\", command=salvar_habito)\n",
    "    btn_salvar.grid(row=1, column=2, padx=10, pady=5)\n",
    "\n",
    "    # Área para exibir os hábitos (se ainda não existir)\n",
    "    if not hasattr(novo_habito, \"output_habitos\") or novo_habito.output_habitos is None:\n",
    "        output_habitos = tkinter.Text(janela, height=10, width=40, padx=10)\n",
    "        output_habitos.grid(row=2, column=1, columnspan=2, pady=10)\n",
    "    else:\n",
    "        novo_habito.output_habitos = output_habitos\n",
    " \n",
    "    atualizar_output()  # Mostra os hábitos cadastrados"
   ]
  },
  {
   "cell_type": "markdown",
   "id": "2fbaf8e0",
   "metadata": {},
   "source": [
    "# Remove acentos e converte para minúsculas"
   ]
  },
  {
   "cell_type": "code",
   "execution_count": 63,
   "id": "907cd935",
   "metadata": {},
   "outputs": [],
   "source": [
    "def normalizar_texto(texto):\n",
    "    texto = unicodedata.normalize('NFD', texto)\n",
    "    texto = texto.encode('ascii', 'ignore').decode('utf-8')\n",
    "    return texto.lower().strip()"
   ]
  },
  {
   "cell_type": "markdown",
   "id": "eabfe726",
   "metadata": {},
   "source": [
    "# Salva um novo hábito na lista e no arquivo JSON"
   ]
  },
  {
   "cell_type": "code",
   "execution_count": 64,
   "id": "2f1de02a-7e18-4f22-ac7a-c2dec2178136",
   "metadata": {},
   "outputs": [],
   "source": [
    "def salvar_habito():\n",
    "    global habitos, output_habitos\n",
    "    \n",
    "    habito_texto = habito.get()\n",
    "    if habito_texto.strip():\n",
    "        habito_normalizado = normalizar_texto(habito_texto)\n",
    "        habitos_normalizados = [normalizar_texto(h['nome']) for h in habitos]\n",
    "        if habito_normalizado in habitos_normalizados:\n",
    "            mostrar_mensagem(\"Atenção\", \"Este hábito já foi cadastrado.\")\n",
    "        else:\n",
    "            habitos.append({\"nome\": habito_texto})\n",
    "            salvar_habitos_no_arquivo()\n",
    "            atualizar_output()\n",
    "            habito.delete(0, tkinter.END)\n",
    "    else:\n",
    "        mostrar_mensagem(\"Atenção\", \"O campo está vazio. Por favor, insira um hábito válido.\")"
   ]
  },
  {
   "cell_type": "markdown",
   "id": "2dd7581f",
   "metadata": {},
   "source": [
    "# Registra o progresso dos hábitos"
   ]
  },
  {
   "cell_type": "code",
   "execution_count": 65,
   "id": "34014613",
   "metadata": {},
   "outputs": [],
   "source": [
    "def registrar_progresso():\n",
    "    global check_vars  # Dicionário para armazenar variáveis dos Checkbuttons\n",
    "    check_vars = {}\n",
    "\n",
    "    # Remove widgets antigos (exceto o menu)\n",
    "    for widget in janela.winfo_children():\n",
    "        if getattr(widget, \"is_menu\", False) is False:\n",
    "            widget.grid_remove()\n",
    "\n",
    "    # Lista de hábitos com Checkbuttons em até 4 colunas por linha\n",
    "    max_colunas = 4\n",
    "    linha = 1\n",
    "    coluna = 0\n",
    "\n",
    "    for i, habito in enumerate(habitos):\n",
    "        var = tkinter.IntVar()\n",
    "        check = tkinter.Checkbutton(janela, text=habito['nome'], variable=var)\n",
    "        check.grid(row=linha, column=coluna + 1, sticky=\"w\", padx=10, pady=5)\n",
    "        check_vars[habito['nome']] = var\n",
    "\n",
    "        # Atualiza a posição para a próxima célula\n",
    "        coluna += 1\n",
    "        if coluna >= max_colunas:  # Move para a próxima linha se atingir o limite de colunas\n",
    "            coluna = 0\n",
    "            linha += 1\n",
    "        \n",
    "    # Botões para registrar e deletar alinhados ao botão SAIR\n",
    "    if linha > 3:\n",
    "        linha += 1  # Ajusta para ficar logo abaixo da última linha de hábitos\n",
    "        btn_registrar = tkinter.Button(janela, text=\"REGISTRAR\", command=registrar)\n",
    "        btn_registrar.grid(row=linha, column=1, columnspan=2, pady=20, padx=40)\n",
    "\n",
    "        btn_deletar = tkinter.Button(janela, text=\"DELETAR\", command=deletar)\n",
    "        btn_deletar.grid(row=linha, column=2, columnspan=2, pady=20, padx=40)\n",
    "    else:\n",
    "        btn_deletar = tkinter.Button(janela, text=\"REGISTRAR\", command=registrar)\n",
    "        btn_deletar.grid(row=4, column=1, columnspan=2, pady=20, padx=40)\n",
    "\n",
    "        btn_deletar = tkinter.Button(janela, text=\"DELETAR\", command=deletar)\n",
    "        btn_deletar.grid(row=4, column=3, columnspan=2, pady=20, padx=40)\n",
    "     \n",
    "    # Alinha com o botão SAIR\n",
    "    janela.update_idletasks()\n"
   ]
  },
  {
   "cell_type": "markdown",
   "id": "5a9b90e2",
   "metadata": {},
   "source": [
    "# Registra o progresso dos hábitos selecionados"
   ]
  },
  {
   "cell_type": "code",
   "execution_count": 66,
   "id": "2638daee",
   "metadata": {},
   "outputs": [],
   "source": [
    "def registrar():\n",
    "    global habitos, check_vars\n",
    "    data_hoje = datetime.today().date().isoformat()  # Data atual\n",
    "\n",
    "    # Adiciona a data ao progresso dos hábitos selecionados\n",
    "    for habito in habitos:\n",
    "        if check_vars[habito['nome']].get() == 1:  # Se o Checkbutton estiver marcado\n",
    "            if 'datas' not in habito:\n",
    "                habito['datas'] = []\n",
    "            if data_hoje not in habito['datas']:\n",
    "                habito['datas'].append(data_hoje)\n",
    "\n",
    "    salvar_habitos_no_arquivo()  # Salva o progresso\n",
    "    mostrar_mensagem(\"Progresso Registrado\", \"Progresso registrado com sucesso!\")\n",
    "\n",
    "    # Atualiza a interface\n",
    "    registrar_progresso()\n",
    "            "
   ]
  },
  {
   "cell_type": "markdown",
   "id": "124ecb8b",
   "metadata": {},
   "source": [
    "# Deleta hábitos selecionados"
   ]
  },
  {
   "cell_type": "code",
   "execution_count": 67,
   "id": "84e01e3b",
   "metadata": {},
   "outputs": [],
   "source": [
    "def deletar():\n",
    "    global habitos, check_vars\n",
    "\n",
    "    # Encontra os hábitos selecionados para deletar\n",
    "    habitos_a_remover = [h for h in habitos if check_vars[h['nome']].get() == 1]\n",
    "\n",
    "    # Remove os hábitos selecionados da lista\n",
    "    habitos = [h for h in habitos if h not in habitos_a_remover]\n",
    "\n",
    "    # Salva os hábitos atualizados no arquivo\n",
    "    salvar_habitos_no_arquivo()\n",
    "\n",
    "    # Atualiza a interface\n",
    "    registrar_progresso()"
   ]
  },
  {
   "cell_type": "markdown",
   "id": "3fdcb6fe",
   "metadata": {},
   "source": [
    "# Ver estatísticas dos hábitos"
   ]
  },
  {
   "cell_type": "code",
   "execution_count": 68,
   "id": "ea8a7280",
   "metadata": {},
   "outputs": [],
   "source": [
    "def ver_estatisticas():\n",
    "    global check_vars  # Dicionário para armazenar variáveis dos Checkbuttons\n",
    "    check_vars = {}\n",
    "\n",
    "    # Remove widgets antigos (exceto o menu)\n",
    "    for widget in janela.winfo_children():\n",
    "        if getattr(widget, \"is_menu\", False) is False:\n",
    "            widget.grid_remove()\n",
    "\n",
    "    # Lista de hábitos com Checkbuttons em até 4 colunas por linha\n",
    "    max_colunas = 4\n",
    "    linha = 1\n",
    "    coluna = 0\n",
    "\n",
    "    for i, habito in enumerate(habitos):\n",
    "        var = tkinter.IntVar()\n",
    "        check = tkinter.Checkbutton(janela, text=habito['nome'], variable=var)\n",
    "        check.grid(row=linha, column=coluna + 1, sticky=\"w\", padx=10, pady=5)\n",
    "        check_vars[habito['nome']] = var\n",
    "\n",
    "        # Atualiza a posição para a próxima célula\n",
    "        coluna += 1\n",
    "        if coluna >= max_colunas:  # Move para a próxima linha se atingir o limite de colunas\n",
    "            coluna = 0\n",
    "            linha += 1\n",
    "        \n",
    "    # Botao para ver estatistica\n",
    "    if linha > 3:\n",
    "        linha += 1  # Ajusta para ficar logo abaixo da última linha de hábitos\n",
    "        btn_mostrar = tkinter.Button(janela, text=\"MOSTRAR\", command=mostrar)\n",
    "        btn_mostrar.grid(row=linha, column=1, columnspan=2, ipady=20, ipadx=40)\n",
    "    else:\n",
    "        btn_mostrar = tkinter.Button(janela, text=\"MOSTRAR\", command=mostrar)\n",
    "        btn_mostrar.grid(row=4, column=1, columnspan=2, ipady=20, ipadx=40)\n",
    "     \n",
    "    # Alinha com o botão SAIR\n",
    "    janela.update_idletasks()"
   ]
  },
  {
   "cell_type": "markdown",
   "id": "a60786f1",
   "metadata": {},
   "source": [
    "# Mostra o progresso de um hábito"
   ]
  },
  {
   "cell_type": "code",
   "execution_count": 69,
   "id": "f25e0665",
   "metadata": {},
   "outputs": [],
   "source": [
    "def mostrar_progresso(habito_nome, dias_praticados, objetivo=45):\n",
    "    \"\"\"\n",
    "    Exibe o progresso do hábito como uma barra horizontal com informações adicionais.\n",
    "    :param habito_nome: Nome do hábito\n",
    "    :param dias_praticados: Lista de dias em que o hábito foi praticado (strings no formato 'YYYY-MM-DD')\n",
    "    :param objetivo: Objetivo total de dias consecutivos\n",
    "    \"\"\"\n",
    "    # Calcula o total de dias praticados\n",
    "    total_dias = len(dias_praticados)\n",
    "    progresso_percentual = (total_dias / objetivo) * 100\n",
    "    dias_faltantes = max(0, objetivo - total_dias)\n",
    "    \n",
    "    # Datas inicial e final\n",
    "    data_inicial = dias_praticados[0] if dias_praticados else \"N/A\"\n",
    "    data_final = \"N/A\"\n",
    "\n",
    "    # Converte a data final para ser 44 dias após a data inicial\n",
    "    if data_inicial != \"N/A\":\n",
    "        try:\n",
    "            # Converte a data inicial de string para datetime\n",
    "            data_inicial = datetime.strptime(data_inicial, \"%Y-%m-%d\")\n",
    "            # Adiciona 44 dias à data inicial para calcular a data final\n",
    "            data_final = data_inicial + timedelta(days=44)  # Usando timedelta corretamente\n",
    "            # Formata as datas no formato dd/mm/yyyy\n",
    "            data_inicial = data_inicial.strftime(\"%d/%m/%Y\")\n",
    "            data_final = data_final.strftime(\"%d/%m/%Y\")\n",
    "        except Exception as e:\n",
    "            print(f\"Erro ao calcular a data final: {e}\")\n",
    "            data_inicial = \"N/A\"\n",
    "            data_final = \"N/A\"\n",
    "\n",
    "    # Cria a janela principal\n",
    "    janela = tkinter.Tk()\n",
    "    janela.title(habito_nome)\n",
    "    janela.geometry(\"800x400\")\n",
    "\n",
    "    # Configura o gráfico\n",
    "    fig = Figure(figsize=(8, 1.5), dpi=100)\n",
    "    ax = fig.add_subplot(111)\n",
    "\n",
    "    # Cria a barra de progresso\n",
    "    ax.barh(0, total_dias, color='green', height=0.3, label=f\"{progresso_percentual:.1f}%\")\n",
    "    ax.barh(0, objetivo, color='lightgray', height=0.3, alpha=0.5)\n",
    "\n",
    "    # Estiliza o gráfico\n",
    "    ax.set_xlim(0, objetivo)\n",
    "    ax.set_yticks([])\n",
    "    ax.set_title(\"Progresso do Hábito\", fontsize=16)\n",
    "    ax.set_xlabel(\"Dias Consecutivos\", fontsize=12)\n",
    "    ax.legend(loc=\"upper right\")\n",
    "\n",
    "    # Insere o gráfico no Tkinter\n",
    "    canvas = FigureCanvasTkAgg(fig, master=janela)\n",
    "    canvas.get_tk_widget().pack(fill=tkinter.BOTH, expand=True)\n",
    "    canvas.draw()\n",
    "\n",
    "    # Adiciona informações abaixo do gráfico\n",
    "    info_frame = tkinter.Frame(janela)\n",
    "    info_frame.pack(fill=tkinter.BOTH, expand=True, pady=10)\n",
    "\n",
    "    # Elementos da primeira coluna\n",
    "    tkinter.Label(info_frame, text=\"Data Inicial:\", font=(\"Arial\", 12)).grid(row=0, column=0, sticky=\"w\", padx=10)\n",
    "    tkinter.Label(info_frame, text=\"Data Final:\", font=(\"Arial\", 12)).grid(row=1, column=0, sticky=\"w\", padx=10)\n",
    "\n",
    "    # Elementos da segunda coluna\n",
    "    tkinter.Label(info_frame, text=\"Total de Dias:\", font=(\"Arial\", 12)).grid(row=0, column=2, sticky=\"w\", padx=10)\n",
    "    tkinter.Label(info_frame, text=\"Dias Restantes:\", font=(\"Arial\", 12)).grid(row=1, column=2, sticky=\"w\", padx=10)\n",
    "\n",
    "    # Valores das informações\n",
    "    tkinter.Label(info_frame, text=data_inicial, font=(\"Arial\", 12, \"bold\")).grid(row=0, column=1, sticky=\"w\", padx=10)\n",
    "    tkinter.Label(info_frame, text=data_final, font=(\"Arial\", 12, \"bold\")).grid(row=1, column=1, sticky=\"w\", padx=10)\n",
    "    tkinter.Label(info_frame, text=total_dias, font=(\"Arial\", 12, \"bold\")).grid(row=0, column=3, sticky=\"w\", padx=10)\n",
    "    tkinter.Label(info_frame, text=dias_faltantes, font=(\"Arial\", 12, \"bold\")).grid(row=1, column=3, sticky=\"w\", padx=10)\n",
    "\n",
    "    #Botão para fechar a janela\n",
    "    btn_fechar = tkinter.Button(janela, text=\"FECHAR\", command=janela.destroy)\n",
    "    btn_fechar.pack(ipady=10, ipadx=30)\n",
    "    \n",
    "    # Inicia o loop da interface gráfica\n",
    "    janela.mainloop()"
   ]
  },
  {
   "cell_type": "markdown",
   "id": "7c206b37",
   "metadata": {},
   "source": [
    "# Mostra os hábitos selecionados"
   ]
  },
  {
   "cell_type": "code",
   "execution_count": 70,
   "id": "6292083c",
   "metadata": {},
   "outputs": [],
   "source": [
    "def mostrar():\n",
    "    global habitos, check_vars\n",
    "\n",
    "    # Encontra os hábitos selecionados para mostrar\n",
    "    habitos_a_mostrar = [h for h in habitos if check_vars[h['nome']].get() == 1]\n",
    "\n",
    "    #permitair a seleção de apenas um hábito\n",
    "    if len(habitos_a_mostrar) > 1:\n",
    "        mostrar_mensagem(\"Atenção\", \"Selecione apenas um hábito para visualizar as estatísticas.\")\n",
    "        return\n",
    "    \n",
    "    # Mostra os hábitos selecionados\n",
    "    for habito in habitos_a_mostrar:\n",
    "        mostrar_progresso(habito['nome'],habito['datas'],45)\n",
    "        "
   ]
  },
  {
   "cell_type": "markdown",
   "id": "2a1410de",
   "metadata": {},
   "source": [
    "# Sair do programa"
   ]
  },
  {
   "cell_type": "code",
   "execution_count": 71,
   "id": "947743b7-9714-4a9f-9f91-8a26fc5ed8c0",
   "metadata": {},
   "outputs": [],
   "source": [
    "def sair():\n",
    "    resposta = True #messagebox.askyesno(\"Confirmação\", \"Tem certeza de que deseja sair?\")\n",
    "    if resposta:\n",
    "        janela.destroy()"
   ]
  },
  {
   "cell_type": "markdown",
   "id": "eeb17540-6834-4c92-9987-6df4028a01e6",
   "metadata": {},
   "source": [
    "# Criar janela e botoes do menu"
   ]
  },
  {
   "cell_type": "code",
   "execution_count": 72,
   "id": "3cd684f4-aa9c-4c32-b499-dc211723fd97",
   "metadata": {},
   "outputs": [
    {
     "name": "stderr",
     "output_type": "stream",
     "text": [
      "Exception in Tkinter callback\n",
      "Traceback (most recent call last):\n",
      "  File \"/usr/lib/python3.10/tkinter/__init__.py\", line 1921, in __call__\n",
      "    return self.func(*args)\n",
      "  File \"/tmp/ipykernel_10214/1430728738.py\", line 17, in registrar\n",
      "    registrar_progresso()\n",
      "  File \"/tmp/ipykernel_10214/1960348429.py\", line 6, in registrar_progresso\n",
      "    for widget in janela.winfo_children():\n",
      "  File \"/usr/lib/python3.10/tkinter/__init__.py\", line 1079, in winfo_children\n",
      "    self.tk.call('winfo', 'children', self._w)):\n",
      "_tkinter.TclError: can't invoke \"winfo\" command: application has been destroyed\n",
      "Exception in Tkinter callback\n",
      "Traceback (most recent call last):\n",
      "  File \"/usr/lib/python3.10/tkinter/__init__.py\", line 1921, in __call__\n",
      "    return self.func(*args)\n",
      "  File \"/tmp/ipykernel_10214/1430728738.py\", line 17, in registrar\n",
      "    registrar_progresso()\n",
      "  File \"/tmp/ipykernel_10214/1960348429.py\", line 6, in registrar_progresso\n",
      "    for widget in janela.winfo_children():\n",
      "  File \"/usr/lib/python3.10/tkinter/__init__.py\", line 1079, in winfo_children\n",
      "    self.tk.call('winfo', 'children', self._w)):\n",
      "_tkinter.TclError: can't invoke \"winfo\" command: application has been destroyed\n"
     ]
    }
   ],
   "source": [
    "# Cria a janela principal e os botões do menu\n",
    "janela = tkinter.Tk()\n",
    "janela.title(\"Rastreador de Hábitos\")\n",
    "janela.configure(bg=\"#f8f8f8\")\n",
    "\n",
    "style = ttk.Style()\n",
    "style.configure(\"Menu.TButton\", font=(\"Helvetica\", 12), padding=10, background=\"#e0e0e0\", foreground=\"black\")\n",
    "\n",
    "btn_novo_habito = ttk.Button(janela, text=\"NOVO HÁBITO\", style=\"Menu.TButton\", command=novo_habito)\n",
    "btn_novo_habito.grid(row=1, column=0, padx=10, pady=10, sticky=\"nsew\")\n",
    "btn_novo_habito.is_menu = True\n",
    "\n",
    "btn_registrar_progresso = ttk.Button(janela, text=\"REGISTRAR PROGRESSO\", style=\"Menu.TButton\", command=registrar_progresso)\n",
    "btn_registrar_progresso.grid(row=2, column=0, padx=10, pady=10, sticky=\"nsew\")\n",
    "btn_registrar_progresso.is_menu = True\n",
    "\n",
    "btn_ver_estatisticas = ttk.Button(janela, text=\"VER ESTATÍSTICAS\", style=\"Menu.TButton\", command=ver_estatisticas)\n",
    "btn_ver_estatisticas.grid(row=3, column=0, padx=10, pady=10, sticky=\"nsew\")\n",
    "btn_ver_estatisticas.is_menu = True\n",
    "\n",
    "btn_sair = ttk.Button(janela, text=\"SAIR\", style=\"Menu.TButton\", command=sair)\n",
    "btn_sair.grid(row=4, column=0, padx=10, pady=10, sticky=\"nsew\")\n",
    "btn_sair.is_menu = True\n",
    "\n",
    "carregar_habitos()\n",
    "janela.mainloop()"
   ]
  }
 ],
 "metadata": {
  "kernelspec": {
   "display_name": "Python 3",
   "language": "python",
   "name": "python3"
  },
  "language_info": {
   "codemirror_mode": {
    "name": "ipython",
    "version": 3
   },
   "file_extension": ".py",
   "mimetype": "text/x-python",
   "name": "python",
   "nbconvert_exporter": "python",
   "pygments_lexer": "ipython3",
   "version": "3.10.12"
  }
 },
 "nbformat": 4,
 "nbformat_minor": 5
}
